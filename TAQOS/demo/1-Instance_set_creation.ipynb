{
 "cells": [
  {
   "cell_type": "markdown",
   "id": "92e1483d",
   "metadata": {},
   "source": [
    "# TAQOS instance creation\n",
    "\n",
    "This notebook shows how to create instances evaluated by TAQOS\n",
    "\n",
    "The created instances are stored in a new directory within the directory:\n",
    "db/maxcut_db/{group_name}"
   ]
  },
  {
   "cell_type": "code",
   "execution_count": 1,
   "id": "c3cfa870",
   "metadata": {},
   "outputs": [],
   "source": [
    "# Import basic functions of TAQOS:\n",
    "import TAQOS.maxcut as tqmc\n",
    "\n",
    "# Generate a group of instances and store the instances\n",
    "# edge weights are drawn uniformly from the list \n",
    "# solver_name specify the topology of the instance and can be:\n",
    "# ['DW_2000Q_6', 'Advantage_system4.1', 'Advantage_system6.1', 'Advantage2_prototype1.1']\n",
    "instance_list = tqmc.generate_instance_group(\n",
    "    group_name='Test_DW_2000Q_6', solver_name='DW_2000Q_6', edge_weights=[-1, 1], nb_instance=10\n",
    ")"
   ]
  },
  {
   "cell_type": "code",
   "execution_count": 2,
   "id": "7e536453",
   "metadata": {},
   "outputs": [],
   "source": [
    "# Save the instance list in the directory db/maxcut_db/group_name\n",
    "# If the group name already exists, the backup is cancelled\n",
    "tqmc.save_instance_list(instance_list)"
   ]
  },
  {
   "cell_type": "code",
   "execution_count": 3,
   "id": "06597cb3",
   "metadata": {},
   "outputs": [
    {
     "data": {
      "text/plain": [
       "['Advantage_system4.1',\n",
       " 'Advantage2_prototype1.1',\n",
       " 'Test_DW_2000Q_6',\n",
       " 'DW_2000Q_6',\n",
       " 'Advantage_system6.1']"
      ]
     },
     "execution_count": 3,
     "metadata": {},
     "output_type": "execute_result"
    }
   ],
   "source": [
    "# List instances, the new group should be available\n",
    "tqmc.list_instances()"
   ]
  },
  {
   "cell_type": "code",
   "execution_count": 6,
   "id": "d5828d6d",
   "metadata": {},
   "outputs": [
    {
     "name": "stdout",
     "output_type": "stream",
     "text": [
      "10\n"
     ]
    }
   ],
   "source": [
    "# Load the generated instance:\n",
    "instance_list = tqmc.load_instance_list('Test_DW_2000Q_6')\n",
    "\n",
    "# Refer to the second notebook for the use of instance lists"
   ]
  },
  {
   "cell_type": "code",
   "execution_count": null,
   "id": "8f9f52b9",
   "metadata": {},
   "outputs": [],
   "source": []
  },
  {
   "cell_type": "code",
   "execution_count": null,
   "id": "ea08e904",
   "metadata": {},
   "outputs": [],
   "source": []
  }
 ],
 "metadata": {
  "kernelspec": {
   "display_name": "Python 3 (ipykernel)",
   "language": "python",
   "name": "python3"
  },
  "language_info": {
   "codemirror_mode": {
    "name": "ipython",
    "version": 3
   },
   "file_extension": ".py",
   "mimetype": "text/x-python",
   "name": "python",
   "nbconvert_exporter": "python",
   "pygments_lexer": "ipython3",
   "version": "3.10.6"
  }
 },
 "nbformat": 4,
 "nbformat_minor": 5
}
